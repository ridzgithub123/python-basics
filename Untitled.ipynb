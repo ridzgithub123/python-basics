{
 "cells": [
  {
   "cell_type": "code",
   "execution_count": 4,
   "id": "7455ceb9-db61-4660-90fd-ff1d86cc8906",
   "metadata": {},
   "outputs": [
    {
     "name": "stdout",
     "output_type": "stream",
     "text": [
      "<class 'str'>\n",
      "<class 'list'>\n",
      "<class 'float'>\n",
      "<class 'tuple'>\n"
     ]
    }
   ],
   "source": [
    "''' Q1 Create one variable containing following type of data\n",
    "    (i) string\n",
    "    (ii)list\n",
    "    (iii) float \n",
    "    (iv) tuple\n",
    "'''\n",
    "\n",
    "s='PYTHON'\n",
    "print (type(s))\n",
    "\n",
    "l=[1,5.6,True,2+5j,'hello']\n",
    "print(type(l))\n",
    "\n",
    "f=1.78\n",
    "print(type(f))\n",
    "\n",
    "t=(1,4.6,False,'coding')\n",
    "print(type(t))\n"
   ]
  },
  {
   "cell_type": "code",
   "execution_count": 7,
   "id": "7dc45bcb-4fe2-45f2-999b-9f95d946dabd",
   "metadata": {},
   "outputs": [
    {
     "name": "stdout",
     "output_type": "stream",
     "text": [
      "<class 'str'>\n",
      "<class 'str'>\n",
      "<class 'list'>\n",
      "<class 'float'>\n"
     ]
    }
   ],
   "source": [
    "''' Q2 some following variables are given containing data ,what will be data type of each variable\n",
    "(i) var1=\" \"\n",
    "(ii)var2='[DS,ML,Python]'\n",
    "(iii)var3=['DS','ML',Python]\n",
    "(iv)var4=1.\n",
    "'''\n",
    "var1=\" \"\n",
    "print(type(var1))\n",
    "var2='[DS,ML,Python]'\n",
    "print(type(var2))\n",
    "var3=['DS','ML','Python']\n",
    "print(type(var3))   \n",
    "var4=1.\n",
    "print(type(var4))\n"
   ]
  },
  {
   "cell_type": "code",
   "execution_count": 8,
   "id": "686b0131-2a0d-4d49-93dd-60894d04cbc6",
   "metadata": {},
   "outputs": [
    {
     "name": "stdout",
     "output_type": "stream",
     "text": [
      "1.6666666666666667\n",
      "2\n",
      "2.0\n",
      "8\n"
     ]
    }
   ],
   "source": [
    "''' Q3 definee the use of following operator'''\n",
    " #(i) / = This operation is for calc division  ie, left operand is divided by right operand\n",
    "x=5/3\n",
    "print(x)\n",
    " #(ii) % = This is modulo operator .It is used to find reminder.\n",
    "y=6%4\n",
    "print(y)\n",
    " #(iii) // = This denotes floor division .It basically round down the value to the nearest whole no.\n",
    "z=5.0//2\n",
    "print(z)\n",
    " #(iv) ** = This is used as exponent in python,left operand raise to the power of right operand.\n",
    "a=2**3\n",
    "print(a)\n",
    "    "
   ]
  },
  {
   "cell_type": "code",
   "execution_count": 12,
   "id": "57e9dece-b2f2-43ca-ab18-a67dbb533cbb",
   "metadata": {},
   "outputs": [
    {
     "name": "stdout",
     "output_type": "stream",
     "text": [
      "1 <class 'int'>\n",
      "True <class 'bool'>\n",
      "45.78 <class 'float'>\n",
      "hi <class 'str'>\n",
      "(4+7j) <class 'complex'>\n",
      "('hloo', 1, 2, 'python', 'is', 'easy') <class 'tuple'>\n",
      "45 <class 'int'>\n",
      "90.78 <class 'float'>\n",
      "[1, 2, 5, 87] <class 'list'>\n",
      "riddhi <class 'str'>\n"
     ]
    }
   ],
   "source": [
    "''' Q4 Create a list of length 10 of your choice containing \n",
    "   multiple types of data.using for loop print the elements and its data type'''\n",
    "\n",
    "l=[1,True,45.78,'hi',4+7j,('hloo',1 ,2 ,'python','is','easy'),45,90.78,[1,2,5,87],'riddhi']\n",
    "for i in l:\n",
    "    print(i,type(i))"
   ]
  },
  {
   "cell_type": "code",
   "execution_count": 15,
   "id": "d06070a7-845c-4b95-b943-ce17555e82bb",
   "metadata": {},
   "outputs": [
    {
     "name": "stdin",
     "output_type": "stream",
     "text": [
      "enter a no 100\n",
      "enter a no 20\n"
     ]
    },
    {
     "name": "stdout",
     "output_type": "stream",
     "text": [
      "5.0\n"
     ]
    }
   ],
   "source": [
    "''' Q5 using while loop ,verify no A is divisible by no B and if so then how many times  it can be divisible'''\n",
    "A=int(input(\"enter a no\"))\n",
    "B=int(input(\"enter a no\"))\n",
    "if(A%B==0):\n",
    "      print(A/B)"
   ]
  },
  {
   "cell_type": "code",
   "execution_count": 18,
   "id": "77af3b46-d02b-47d9-ab26-173783238887",
   "metadata": {},
   "outputs": [
    {
     "name": "stdout",
     "output_type": "stream",
     "text": [
      "1 is not divisible by 3\n",
      "23 is not divisible by 3\n",
      "3 is divisible by 3\n",
      "6 is divisible by 3\n",
      "98 is not divisible by 3\n",
      "90 is divisible by 3\n",
      "78 is divisible by 3\n",
      "56 is not divisible by 3\n",
      "15 is divisible by 3\n",
      "12 is divisible by 3\n",
      "30 is divisible by 3\n",
      "24 is divisible by 3\n",
      "59 is not divisible by 3\n",
      "89 is not divisible by 3\n",
      "18 is divisible by 3\n",
      "14 is not divisible by 3\n",
      "21 is divisible by 3\n",
      "27 is divisible by 3\n",
      "33 is divisible by 3\n",
      "36 is divisible by 3\n",
      "51 is divisible by 3\n",
      "48 is divisible by 3\n",
      "72 is divisible by 3\n",
      "93 is divisible by 3\n",
      "330 is divisible by 3\n"
     ]
    }
   ],
   "source": [
    "#Q6 create list containing 25 int type data  using for looop and if else condition and print if element is dividible by 3 or not.\n",
    "l=[1,23,3,6,98,90,78,56,15,12,30,24,59,89,18,14,21,27,33,36,51,48,72,93,330]\n",
    "for i in l:\n",
    "    if i % 3 == 0:\n",
    "     print(i ,\"is divisible by 3\")\n",
    "    else:\n",
    "     print(i ,\"is not divisible by 3\")\n",
    "           "
   ]
  },
  {
   "cell_type": "code",
   "execution_count": 20,
   "id": "90fdcbad-35d3-4d7b-8c47-241b8cb58d38",
   "metadata": {},
   "outputs": [
    {
     "name": "stdout",
     "output_type": "stream",
     "text": [
      "original list =  [1, 56, 78, 90, 'abc', 34.5]\n",
      "[1, 56, True, 90, 'abc', 34.5]\n",
      "[1, 56, True, 90, 'abc', (2+4j)]\n"
     ]
    }
   ],
   "source": [
    "'''Q7 what do you understand about mutable and immutable data types?give examples of both showing this property'''\n",
    "# MUTABLE DATATYPE = In this datatype we can modify value at any paricular index.eg list,dictionary \n",
    "l=[1,56,78,90,'abc',34.5]\n",
    "print(\"original list = \",l)\n",
    "l[2]=True\n",
    "print(l)\n",
    "l[-1]=2+4j\n",
    "print(l)\n",
    "\n",
    "\n"
   ]
  },
  {
   "cell_type": "code",
   "execution_count": 21,
   "id": "bcc2a1af-601b-4623-834b-e42e92ade52a",
   "metadata": {},
   "outputs": [
    {
     "ename": "TypeError",
     "evalue": "'str' object does not support item assignment",
     "output_type": "error",
     "traceback": [
      "\u001b[0;31m---------------------------------------------------------------------------\u001b[0m",
      "\u001b[0;31mTypeError\u001b[0m                                 Traceback (most recent call last)",
      "Cell \u001b[0;32mIn[21], line 3\u001b[0m\n\u001b[1;32m      1\u001b[0m \u001b[38;5;66;03m# IMUTABLE DATATYPE = In this datatype we can't modify value at any perticular index .We can only assign new  value to variable .eg tuple,string \u001b[39;00m\n\u001b[1;32m      2\u001b[0m \u001b[38;5;28mstr\u001b[39m\u001b[38;5;241m=\u001b[39m\u001b[38;5;124m\"\u001b[39m\u001b[38;5;124mcoding is love for me\u001b[39m\u001b[38;5;124m\"\u001b[39m\n\u001b[0;32m----> 3\u001b[0m \u001b[38;5;28;43mstr\u001b[39;49m\u001b[43m[\u001b[49m\u001b[38;5;241;43m3\u001b[39;49m\u001b[43m]\u001b[49m\u001b[38;5;241m=\u001b[39my\n\u001b[1;32m      4\u001b[0m \u001b[38;5;28mprint\u001b[39m(\u001b[38;5;28mstr\u001b[39m)\n",
      "\u001b[0;31mTypeError\u001b[0m: 'str' object does not support item assignment"
     ]
    }
   ],
   "source": [
    "# IMUTABLE DATATYPE = In this datatype we can't modify value at any perticular index .We can only assign new  value to variable .eg tuple,string \n",
    "str=\"coding is love for me\"\n",
    "str[3]=y\n",
    "print(str)\n"
   ]
  },
  {
   "cell_type": "code",
   "execution_count": null,
   "id": "7fdce17a-8111-49dc-879e-6a20c74090bb",
   "metadata": {},
   "outputs": [],
   "source": [
    "# the eror arises which shows that we cant modify the value of str at any index\n"
   ]
  },
  {
   "cell_type": "code",
   "execution_count": 22,
   "id": "c004162d-cc4f-4904-aca5-87490b573b77",
   "metadata": {},
   "outputs": [
    {
     "ename": "TypeError",
     "evalue": "'tuple' object does not support item assignment",
     "output_type": "error",
     "traceback": [
      "\u001b[0;31m---------------------------------------------------------------------------\u001b[0m",
      "\u001b[0;31mTypeError\u001b[0m                                 Traceback (most recent call last)",
      "Cell \u001b[0;32mIn[22], line 2\u001b[0m\n\u001b[1;32m      1\u001b[0m t\u001b[38;5;241m=\u001b[39m(\u001b[38;5;241m1\u001b[39m,\u001b[38;5;241m3\u001b[39m,\u001b[38;5;241m6\u001b[39m,\u001b[38;5;241m9\u001b[39m)\n\u001b[0;32m----> 2\u001b[0m \u001b[43mt\u001b[49m\u001b[43m[\u001b[49m\u001b[38;5;241;43m1\u001b[39;49m\u001b[43m]\u001b[49m\u001b[38;5;241m=\u001b[39m\u001b[38;5;241m4\u001b[39m\n\u001b[1;32m      3\u001b[0m \u001b[38;5;28mprint\u001b[39m(t)\n",
      "\u001b[0;31mTypeError\u001b[0m: 'tuple' object does not support item assignment"
     ]
    }
   ],
   "source": [
    "t=(1,3,6,9)\n",
    "t[1]=4\n",
    "print(t)\n"
   ]
  },
  {
   "cell_type": "code",
   "execution_count": null,
   "id": "17fc26fb-bc17-4ab8-b274-d6be75d68ec4",
   "metadata": {},
   "outputs": [],
   "source": [
    "# this tells tuple is also a immutable datatype."
   ]
  },
  {
   "cell_type": "code",
   "execution_count": null,
   "id": "e6faa528-2cd7-43f4-a361-ac7b407abf02",
   "metadata": {},
   "outputs": [],
   "source": []
  }
 ],
 "metadata": {
  "kernelspec": {
   "display_name": "Python 3 (ipykernel)",
   "language": "python",
   "name": "python3"
  },
  "language_info": {
   "codemirror_mode": {
    "name": "ipython",
    "version": 3
   },
   "file_extension": ".py",
   "mimetype": "text/x-python",
   "name": "python",
   "nbconvert_exporter": "python",
   "pygments_lexer": "ipython3",
   "version": "3.10.8"
  }
 },
 "nbformat": 4,
 "nbformat_minor": 5
}
